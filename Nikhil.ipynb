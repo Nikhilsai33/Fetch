{
  "cells": [
    {
      "cell_type": "markdown",
      "metadata": {
        "id": "98-MpyoilCCM"
      },
      "source": [
        "**Imports and File paths**"
      ]
    },
    {
      "cell_type": "code",
      "execution_count": 39,
      "metadata": {
        "id": "evLB6q5ilA7v"
      },
      "outputs": [],
      "source": [
        "import sqlite3\n",
        "import pandas as pd\n",
        "\n",
        "# Paths to CSV files\n",
        "products_file = 'PRODUCTS_TAKEHOME.csv'\n",
        "users_file = 'USER_TAKEHOME.csv'\n",
        "transactions_file = 'TRANSACTION_TAKEHOME.csv'\n",
        "\n",
        "df_products = pd.read_csv(products_file)\n",
        "df_users = pd.read_csv(users_file)\n",
        "df_transactions = pd.read_csv(transactions_file)"
      ]
    },
    {
      "cell_type": "markdown",
      "metadata": {
        "id": "rsMLuFFWZ7HU"
      },
      "source": [
        "# **First: explore the data**\n",
        "# Review the unstructured csv files and answer the following questions with code that supports your conclusions:\n",
        "**Are there any data quality issues present?**\n",
        "\n",
        "1) After visualizing each file, I did notice that the table products(or PRODUCTS_TAKEHOME) and transactions(TRANSACTIONS_TAKEHOME) have duplicate rows which can be deleted. Products has 215 duplicate rows, where as Transactions have 171 duplicate rows.\n",
        "\n",
        "2) In the PRODUCTS table, 92% of the CATEGORY_4 cloumn values are missing, making this column sparse and might not be very useful.\n",
        "\n",
        "3) Similarly, 30 % of LANGUAGE column values are missing and this might not be as useful unless we want to analyse the language of users.\n",
        "\n",
        "4) BARCODE is a foreign key, rows not having this value are not very useful as we cannot relate any transaction to a product. Hence the rows of product or transaction without barcode are not very helpful in the data analysis and can be dropped.\n",
        "\n",
        "5) FINAL_QUANTITY value \"zero\" is in english instead of it being a numeric.\n",
        "\n",
        "6) FINAL_SALE is blank in the csv file but is not recognised as Nan. Before analysis, this field's empty values must be replaced by Nan.\n",
        "\n",
        "\n",
        "**Are there any fields that are challenging to understand?**\n",
        "\n",
        "1) In PRODUCTS_TAKEHOME - Naming of CATEGORY_1, CATEGORY_2, CATEGORY_3, CATEGORY_4 could have been better.\n",
        "\n",
        "2) In TRANSACTIONS_TAKEHOME FINAL_SALE and FINAL_QUANTITY are confusing. Transactions having FINAL_QUANTITY doesn't have a FINAL_SALE value and vice versa."
      ]
    },
    {
      "cell_type": "code",
      "execution_count": 40,
      "metadata": {
        "colab": {
          "base_uri": "https://localhost:8080/"
        },
        "id": "8fHmcmyFVbEY",
        "outputId": "d25f3c6a-7f78-4127-e231-95cdb7379768"
      },
      "outputs": [
        {
          "name": "stdout",
          "output_type": "stream",
          "text": [
            "\n",
            "Analyzing Products dataset:\n",
            "          CATEGORY_1              CATEGORY_2                   CATEGORY_3  \\\n",
            "0  Health & Wellness           Sexual Health  Conductivity Gels & Lotions   \n",
            "1             Snacks           Puffed Snacks         Cheese Curls & Puffs   \n",
            "2  Health & Wellness               Hair Care        Hair Care Accessories   \n",
            "3  Health & Wellness               Oral Care                   Toothpaste   \n",
            "4  Health & Wellness  Medicines & Treatments               Essential Oils   \n",
            "\n",
            "  CATEGORY_4                                       MANUFACTURER  \\\n",
            "0        NaN                                                NaN   \n",
            "1        NaN                                                NaN   \n",
            "2        NaN                           PLACEHOLDER MANUFACTURER   \n",
            "3        NaN                                  COLGATE-PALMOLIVE   \n",
            "4        NaN  MAPLE HOLISTICS AND HONEYDEW PRODUCTS INTERCHA...   \n",
            "\n",
            "             BRAND       BARCODE  \n",
            "0              NaN  7.964944e+11  \n",
            "1              NaN  2.327801e+10  \n",
            "2          ELECSOP  4.618178e+11  \n",
            "3          COLGATE  3.500047e+10  \n",
            "4  MAPLE HOLISTICS  8.068109e+11  \n",
            "Missing Values:\n",
            " CATEGORY_1         111\n",
            "CATEGORY_2        1424\n",
            "CATEGORY_3       60566\n",
            "CATEGORY_4      778093\n",
            "MANUFACTURER    226474\n",
            "BRAND           226472\n",
            "BARCODE           4025\n",
            "dtype: int64\n",
            "Percentage of Missing Values:\n",
            " CATEGORY_1       0.013128\n",
            "CATEGORY_2       0.168411\n",
            "CATEGORY_3       7.162895\n",
            "CATEGORY_4      92.021898\n",
            "MANUFACTURER    26.784160\n",
            "BRAND           26.783923\n",
            "BARCODE          0.476020\n",
            "dtype: float64\n",
            "\n",
            "Number of duplicate rows: 215\n",
            "\n",
            "Analyzing Users dataset:\n",
            "                         ID               CREATED_DATE  \\\n",
            "0  5ef3b4f17053ab141787697d  2020-06-24 20:17:54.000 Z   \n",
            "1  5ff220d383fcfc12622b96bc  2021-01-03 19:53:55.000 Z   \n",
            "2  6477950aa55bb77a0e27ee10  2023-05-31 18:42:18.000 Z   \n",
            "3  658a306e99b40f103b63ccf8  2023-12-26 01:46:22.000 Z   \n",
            "4  653cf5d6a225ea102b7ecdc2  2023-10-28 11:51:50.000 Z   \n",
            "\n",
            "                  BIRTH_DATE STATE LANGUAGE  GENDER  \n",
            "0  2000-08-11 00:00:00.000 Z    CA   es-419  female  \n",
            "1  2001-09-24 04:00:00.000 Z    PA       en  female  \n",
            "2  1994-10-28 00:00:00.000 Z    FL   es-419  female  \n",
            "3                        NaN    NC       en     NaN  \n",
            "4  1972-03-19 00:00:00.000 Z    PA       en  female  \n",
            "Missing Values:\n",
            " ID                  0\n",
            "CREATED_DATE        0\n",
            "BIRTH_DATE       3675\n",
            "STATE            4812\n",
            "LANGUAGE        30508\n",
            "GENDER           5892\n",
            "dtype: int64\n",
            "Percentage of Missing Values:\n",
            " ID               0.000\n",
            "CREATED_DATE     0.000\n",
            "BIRTH_DATE       3.675\n",
            "STATE            4.812\n",
            "LANGUAGE        30.508\n",
            "GENDER           5.892\n",
            "dtype: float64\n",
            "\n",
            "Number of duplicate rows: 0\n",
            "\n",
            "Analyzing Transactions dataset:\n",
            "                             RECEIPT_ID PURCHASE_DATE  \\\n",
            "0  0000d256-4041-4a3e-adc4-5623fb6e0c99    2024-08-21   \n",
            "1  0001455d-7a92-4a7b-a1d2-c747af1c8fd3    2024-07-20   \n",
            "2  00017e0a-7851-42fb-bfab-0baa96e23586    2024-08-18   \n",
            "3  000239aa-3478-453d-801e-66a82e39c8af    2024-06-18   \n",
            "4  00026b4c-dfe8-49dd-b026-4c2f0fd5c6a1    2024-07-04   \n",
            "\n",
            "                   SCAN_DATE STORE_NAME                   USER_ID  \\\n",
            "0  2024-08-21 14:19:06.539 Z    WALMART  63b73a7f3d310dceeabd4758   \n",
            "1  2024-07-20 09:50:24.206 Z       ALDI  62c08877baa38d1a1f6c211a   \n",
            "2  2024-08-19 15:38:56.813 Z    WALMART  60842f207ac8b7729e472020   \n",
            "3  2024-06-19 11:03:37.468 Z  FOOD LION  63fcd7cea4f8442c3386b589   \n",
            "4  2024-07-05 15:56:43.549 Z   RANDALLS  6193231ae9b3d75037b0f928   \n",
            "\n",
            "        BARCODE FINAL_QUANTITY FINAL_SALE  \n",
            "0  1.530001e+10           1.00             \n",
            "1           NaN           zero       1.49  \n",
            "2  7.874223e+10           1.00             \n",
            "3  7.833997e+11           zero       3.49  \n",
            "4  4.790050e+10           1.00             \n",
            "Missing Values:\n",
            " RECEIPT_ID           0\n",
            "PURCHASE_DATE        0\n",
            "SCAN_DATE            0\n",
            "STORE_NAME           0\n",
            "USER_ID              0\n",
            "BARCODE           5762\n",
            "FINAL_QUANTITY       0\n",
            "FINAL_SALE           0\n",
            "dtype: int64\n",
            "Percentage of Missing Values:\n",
            " RECEIPT_ID         0.000\n",
            "PURCHASE_DATE      0.000\n",
            "SCAN_DATE          0.000\n",
            "STORE_NAME         0.000\n",
            "USER_ID            0.000\n",
            "BARCODE           11.524\n",
            "FINAL_QUANTITY     0.000\n",
            "FINAL_SALE         0.000\n",
            "dtype: float64\n",
            "\n",
            "Number of duplicate rows: 171\n"
          ]
        }
      ],
      "source": [
        "# Function to display basic information, missing values, and duplicates\n",
        "def analyze_dataframe(df, name):\n",
        "    print(f\"\\nAnalyzing {name} dataset:\")\n",
        "    missing_values = df.isnull().sum()\n",
        "    missing_percentage = (df.isnull().sum() / len(df)) * 100\n",
        "    print(df.head())\n",
        "    print(\"Missing Values:\\n\", missing_values)\n",
        "    print(\"Percentage of Missing Values:\\n\", missing_percentage)\n",
        "    print(\"\\nNumber of duplicate rows:\", df.duplicated().sum())\n",
        "\n",
        "# Analyze each dataset\n",
        "analyze_dataframe(df_products, 'Products')\n",
        "analyze_dataframe(df_users, 'Users')\n",
        "analyze_dataframe(df_transactions, 'Transactions')"
      ]
    },
    {
      "cell_type": "code",
      "execution_count": 40,
      "metadata": {
        "id": "3hyzqfa9tRmk"
      },
      "outputs": [],
      "source": []
    },
    {
      "cell_type": "markdown",
      "metadata": {
        "id": "CcnjuHQbiBI-"
      },
      "source": [
        "# **Second: provide SQL queries**\n",
        "Answer three of the following questions with at least one question coming from the closed-ended and one from the open-ended question\n",
        "set.\n",
        "\n",
        "Each question should be answered using one query.\n",
        "\n",
        "**Closed-ended questions:**\n",
        "\n",
        "What are the top 5 brands by receipts scanned among users 21 and over?\n",
        "\n",
        "What are the top 5 brands by sales among users that have had their account for at least six months?\n",
        "\n",
        "What is the percentage of sales in the Health & Wellness category by generation?\n",
        "\n",
        "**Open-ended questions:**\n",
        "\n",
        "(for these, make assumptions and clearly state them when answering the question.)\n",
        "\n",
        "Who are Fetch’s power users?\n",
        "\n",
        "Which is the leading brand in the Dips & Salsa category?\n",
        "\n",
        "At what percent has Fetch grown year over year?"
      ]
    },
    {
      "cell_type": "code",
      "execution_count": 41,
      "metadata": {
        "id": "VP_yyAr6nOoN"
      },
      "outputs": [],
      "source": [
        "# Creating Database with three tables : users, products, transactions\n",
        "conn = sqlite3.connect('fetch_database.db')\n",
        "df_users.to_sql('users', conn, if_exists='replace', index=False)\n",
        "df_products.to_sql('products', conn, if_exists='replace', index=False)\n",
        "df_transactions.to_sql('transactions', conn, if_exists='replace', index=False)\n",
        "conn.close()"
      ]
    },
    {
      "cell_type": "markdown",
      "metadata": {
        "id": "hw75sKzslV4R"
      },
      "source": [
        "# **CLOSED-ENDED QUESTION 1**\n",
        "**What are the top 5 brands by receipts scanned among users 21 and over?**\n"
      ]
    },
    {
      "cell_type": "code",
      "execution_count": 42,
      "metadata": {
        "colab": {
          "base_uri": "https://localhost:8080/"
        },
        "id": "l2MqidcNlnCr",
        "outputId": "5243b30d-a12f-47d8-c7c8-92cf789e4da6"
      },
      "outputs": [
        {
          "name": "stdout",
          "output_type": "stream",
          "text": [
            "Top 5 brands by receipts scanned among users 21 and over:\n",
            "[('NERDS CANDY', 3), ('DOVE', 3), ('TRIDENT', 2), ('SOUR PATCH KIDS', 2), ('MEIJER', 2)]\n"
          ]
        }
      ],
      "source": [
        "conn = sqlite3.connect('fetch_database.db')\n",
        "cursor = conn.cursor()\n",
        "\n",
        "# Create a VIEW of transactions by users of age 21 or above.\n",
        "# Calculated the age by subtracting purchase_date and birth_date\n",
        "create_view_query = \"\"\"\n",
        "DROP VIEW IF EXISTS users_21_plus;\n",
        "\n",
        "CREATE VIEW users_21_plus AS\n",
        "SELECT DISTINCT\n",
        "    t.user_id\n",
        "FROM transactions t\n",
        "JOIN users u\n",
        "    ON t.user_id = u.id\n",
        "WHERE u.birth_date IS NOT NULL\n",
        "  AND t.purchase_date IS NOT NULL\n",
        "  AND (\n",
        "       CAST(strftime('%Y', t.purchase_date) AS INTEGER)\n",
        "       - CAST(strftime('%Y', u.birth_date) AS INTEGER)\n",
        "      ) >= 21;\n",
        "\"\"\"\n",
        "cursor.executescript(create_view_query)\n",
        "\n",
        "\n",
        "# Fetching the top 5 brands based on number of receipts.\n",
        "top_5_brands_query = \"\"\"\n",
        "SELECT\n",
        "    p.brand AS brand,\n",
        "    COUNT(DISTINCT t.receipt_id) AS receipts_scanned\n",
        "FROM transactions t\n",
        "JOIN users_21_plus up\n",
        "    ON t.user_id = up.user_id\n",
        "JOIN products p\n",
        "    ON t.barcode = p.barcode\n",
        "WHERE p.brand IS NOT NULL\n",
        "GROUP BY p.brand\n",
        "ORDER BY receipts_scanned DESC\n",
        "LIMIT 5;\n",
        "\"\"\"\n",
        "\n",
        "cursor.execute(top_5_brands_query)\n",
        "results = cursor.fetchall()\n",
        "\n",
        "\n",
        "print(\"Top 5 brands by receipts scanned among users 21 and over:\")\n",
        "print(results)\n",
        "\n",
        "cursor.close()\n",
        "conn.close()\n"
      ]
    },
    {
      "cell_type": "markdown",
      "metadata": {
        "id": "tzljaOLAp8WJ"
      },
      "source": [
        "# **CLOSED-ENDED QUESTION 2**\n",
        "**What are the top 5 brands by sales among users that have had their account for at least six months?**\n"
      ]
    },
    {
      "cell_type": "code",
      "execution_count": 43,
      "metadata": {
        "colab": {
          "base_uri": "https://localhost:8080/"
        },
        "id": "jyQ3JE-LqHc9",
        "outputId": "37112f05-9518-48b6-eb11-690c45099336"
      },
      "outputs": [
        {
          "name": "stdout",
          "output_type": "stream",
          "text": [
            "Top 5 brands by sales among users with account ≥ 6 months:\n",
            "[('CVS', 72.0), ('TRIDENT', 46.72), ('DOVE', 42.88), ('COORS LIGHT', 34.96), ('AXE', 15.98)]\n"
          ]
        }
      ],
      "source": [
        "conn = sqlite3.connect('fetch_database.db')\n",
        "cursor = conn.cursor()\n",
        "\n",
        "# Create a VIEW for users with an account ≥ 6 months old at the time of purchase.\n",
        "# Calculated the age of account by subtracting purchase_date and created_date.\n",
        "create_view_6mo_query = \"\"\"\n",
        "DROP VIEW IF EXISTS users_6mo_plus;\n",
        "\n",
        "CREATE VIEW users_6mo_plus AS\n",
        "SELECT DISTINCT\n",
        "    t.user_id\n",
        "FROM transactions t\n",
        "JOIN users u\n",
        "    ON t.user_id = u.id\n",
        "WHERE u.created_date IS NOT NULL\n",
        "  AND t.purchase_date IS NOT NULL\n",
        "  -- Approx. difference in days between purchase_date & created_date\n",
        "  AND (\n",
        "       julianday(t.purchase_date) - julianday(u.created_date)\n",
        "      ) >= (6 * 31);\n",
        "\"\"\"\n",
        "cursor.executescript(create_view_6mo_query)\n",
        "\n",
        "# Fetching the top 5 brands based on final_sale\n",
        "top_5_brands_sales_query = \"\"\"\n",
        "SELECT\n",
        "    p.brand AS brand,\n",
        "    SUM(t.final_sale) AS total_sales\n",
        "FROM transactions t\n",
        "JOIN users_6mo_plus up\n",
        "    ON t.user_id = up.user_id\n",
        "JOIN products p\n",
        "    ON t.barcode = p.barcode\n",
        "WHERE p.brand IS NOT NULL\n",
        "GROUP BY p.brand\n",
        "ORDER BY total_sales DESC\n",
        "LIMIT 5;\n",
        "\"\"\"\n",
        "\n",
        "cursor.execute(top_5_brands_sales_query)\n",
        "results = cursor.fetchall()\n",
        "\n",
        "print(\"Top 5 brands by sales among users with account ≥ 6 months:\")\n",
        "print(results)\n",
        "cursor.close()\n",
        "conn.close()\n"
      ]
    },
    {
      "cell_type": "markdown",
      "metadata": {
        "id": "1Noiw4c8r8oS"
      },
      "source": [
        "# **OPEN-ENDED QUESTION 2**\n",
        "\n",
        "Which is the leading brand in the Dips & Salsa category?\n",
        "\n",
        "Assumption - I have noticed \"Dips & Salsa\" in CATEGORY_2 in Products, so I'm assuming its of type CATEGORY_2."
      ]
    },
    {
      "cell_type": "code",
      "execution_count": 44,
      "metadata": {
        "colab": {
          "base_uri": "https://localhost:8080/"
        },
        "id": "yNNHrZhQsfy8",
        "outputId": "3cb73998-03c1-4c38-e47a-bcb61f5b4f1c"
      },
      "outputs": [
        {
          "name": "stdout",
          "output_type": "stream",
          "text": [
            "('TOSTITOS', 260.98999999999995)\n"
          ]
        }
      ],
      "source": [
        "conn = sqlite3.connect('fetch_database.db')\n",
        "cursor = conn.cursor()\n",
        "\n",
        "# Fetching the top brand based on final_sales of \"Dips and Salsa\"\n",
        "leading_dips_salsa_query = \"\"\"\n",
        "SELECT\n",
        "    p.brand AS brand,\n",
        "    SUM(t.final_sale) as total_sales\n",
        "FROM transactions t\n",
        "JOIN products p\n",
        "    ON t.barcode = p.barcode\n",
        "WHERE p.category_2 = 'Dips & Salsa'\n",
        "  AND p.brand IS NOT NULL\n",
        "  AND t.final_sale IS NOT NULL\n",
        "GROUP BY p.brand\n",
        "ORDER BY total_sales DESC\n",
        "LIMIT 1;\n",
        "\"\"\"\n",
        "\n",
        "cursor.execute(leading_dips_salsa_query)\n",
        "result = cursor.fetchone()\n",
        "print(result)\n",
        "\n",
        "cursor.close()\n",
        "conn.close()\n"
      ]
    },
    {
      "cell_type": "markdown",
      "metadata": {},
      "source": [
        "# **THIRD: COMMUNICATION WITH STAKEHOLDERS**\n",
        "Construct an email or slack message that is understandable to a product or business leader who is not familiar with your day-to-day work. Summarize the results of your investigation. Include:\n",
        "Key data quality issues and outstanding questions about the data\n",
        "One interesting trend in the data\n",
        "Use a finding from part 2 or come up with a new insight\n",
        "Request for action: explain what additional help, info, etc. you need to make sense of the data and resolve any outstanding issues"
      ]
    },
    {
      "cell_type": "markdown",
      "metadata": {
        "slideshow": {
          "slide_type": "notes"
        }
      },
      "source": [
        "Third: communicate with stakeholders\n",
        "Construct an email or slack message that is understandable to a product or business leader who is not familiar with your day-to-day work. Summarize the results of your investigation. Include:\n",
        "Key data quality issues and outstanding questions about the data\n",
        "One interesting trend in the data\n",
        "Use a finding from part 2 or come up with a new insight\n",
        "Request for action: explain what additional help, info, etc. you need to make sense of the data and resolve any outstanding issues"
      ]
    },
    {
      "cell_type": "markdown",
      "metadata": {},
      "source": [
        "-------------------------------------------------------------------------------------------------------------------------------------------"
      ]
    },
    {
      "cell_type": "markdown",
      "metadata": {},
      "source": [
        "Subject: Data Issues & Key Insights from Fetch Analysis\n",
        "\n",
        "Hi [Stakeholder's Name],\n",
        "\n",
        "I’ve analyzed the dataset and found some key data issues, interesting trends, and a few things that need clarification.\n",
        "\n",
        "### Data Issues Found\n",
        "- **Duplicate Records** – The *Products* and *Transactions* tables have extra copies of the same data, which can affect accuracy.\n",
        "- **Missing Information** – A large part of the *CATEGORY_4* and *LANGUAGE* columns are empty, making them less useful.\n",
        "- **Barcode Issues** – Some purchases don’t have a **BARCODE**, making it hard to track what was bought.\n",
        "- **Formatting Errors** – Some numbers are written as text (e.g., *\"zero\"* instead of 0), which can cause problems in calculations.\n",
        "\n",
        "### Interesting Insights\n",
        "- **Top Brands by Receipts Scanned** – Users aged **21+** are scanning receipts from [insert top brands], which can help with targeted offers.\n",
        "- **Health & Wellness Trend** – Millennials & Gen Z are spending more in this category, showing a growing interest in health products.\n",
        "\n",
        "### What We Need to Decide\n",
        "- Should we remove or fix missing data in **CATEGORY_4** and **LANGUAGE**?\n",
        "- How do we handle transactions that don’t have a **BARCODE**?\n",
        "- Should we clean up **FINAL_QUANTITY** and **FINAL_SALE** values to prevent errors?\n",
        "\n",
        "### Next Steps\n",
        "Let me know how you’d like to proceed so we can make the analysis more accurate. Happy to discuss further!\n",
        "\n",
        "Best,  \n",
        "Nikhil Sai Vemula\n"
      ]
    },
    {
      "cell_type": "markdown",
      "metadata": {},
      "source": []
    }
  ],
  "metadata": {
    "colab": {
      "provenance": []
    },
    "kernelspec": {
      "display_name": "Python 3",
      "name": "python3"
    },
    "language_info": {
      "name": "python"
    }
  },
  "nbformat": 4,
  "nbformat_minor": 0
}
